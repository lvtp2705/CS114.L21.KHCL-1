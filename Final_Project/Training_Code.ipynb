{
  "nbformat": 4,
  "nbformat_minor": 0,
  "metadata": {
    "colab": {
      "name": "Training_Code.ipynb",
      "provenance": [],
      "collapsed_sections": [],
      "include_colab_link": true
    },
    "kernelspec": {
      "display_name": "Python 3",
      "name": "python3"
    },
    "language_info": {
      "name": "python"
    }
  },
  "cells": [
    {
      "cell_type": "markdown",
      "metadata": {
        "id": "view-in-github",
        "colab_type": "text"
      },
      "source": [
        "<a href=\"https://colab.research.google.com/github/nhat132940/CS114.L21.KHCL/blob/main/Final_Project/Training_Code.ipynb\" target=\"_parent\"><img src=\"https://colab.research.google.com/assets/colab-badge.svg\" alt=\"Open In Colab\"/></a>"
      ]
    },
    {
      "cell_type": "code",
      "metadata": {
        "id": "3WxmCKvlHjth"
      },
      "source": [
        "#Trên colab: Truy cập Thời gian chạy (Run time)/ Thay đổi loại thời gian chạy( Change run time). Và chọn GPU ở phần Trình tăng tốc phần cứng."
      ],
      "execution_count": null,
      "outputs": []
    },
    {
      "cell_type": "code",
      "metadata": {
        "colab": {
          "base_uri": "https://localhost:8080/"
        },
        "id": "58qOLoT6C0th",
        "outputId": "a56cb8ce-871e-41ee-b9d1-c10938649656"
      },
      "source": [
        "#Kết nối với Google Drive\n",
        "from google.colab import drive\n",
        "drive.mount('/content/gdrive')"
      ],
      "execution_count": null,
      "outputs": [
        {
          "output_type": "stream",
          "text": [
            "Drive already mounted at /content/gdrive; to attempt to forcibly remount, call drive.mount(\"/content/gdrive\", force_remount=True).\n"
          ],
          "name": "stdout"
        }
      ]
    },
    {
      "cell_type": "code",
      "metadata": {
        "id": "-WZAeqqhC1Or"
      },
      "source": [
        "#Cập nhật các Package\n",
        "!apt-get update\n",
        "!apt-get upgrade"
      ],
      "execution_count": null,
      "outputs": []
    },
    {
      "cell_type": "code",
      "metadata": {
        "id": "tJw7khVog2WB"
      },
      "source": [
        "#Tải model về drive\n",
        "%cd /content/gdrive/MyDrive/\n",
        "!git clone https://github.com/AlexeyAB/darknet\n",
        "!rm -rf data #Xóa thư mục data trong thư mục darknet \n",
        "!mkdir backup # tạo thư mục backup để lưu các file trọng số sau đào tạo "
      ],
      "execution_count": null,
      "outputs": []
    },
    {
      "cell_type": "code",
      "metadata": {
        "id": "Jc0Q-c7gCayi"
      },
      "source": [
        "#Tải file yolo.names và yolo.data\n",
        "%cd /content/gdrive/MyDrive/darknet\n",
        "!wget https://github.com/nhat132940/CS114.L21.KHCL/tree/main/Final_Project/yolo.names\n",
        "!wget https://github.com/nhat132940/CS114.L21.KHCL/tree/main/Final_Project/yolo.data"
      ],
      "execution_count": null,
      "outputs": []
    },
    {
      "cell_type": "code",
      "metadata": {
        "id": "niIiKJ80ElCt"
      },
      "source": [
        "#Thay thế bằng file Makefile đã chỉnh sửa\n",
        "%cd /content/gdrive/MyDrive/darknet\n",
        "!rm Makefile\n",
        "!wget https://github.com/nhat132940/CS114.L21.KHCL/tree/main/Final_Project/Makefile"
      ],
      "execution_count": null,
      "outputs": []
    },
    {
      "cell_type": "code",
      "metadata": {
        "id": "VQ-ZLhMAFYoJ"
      },
      "source": [
        "#Thay thế bằng file yolov4-custom.cfg đã chỉnh sửa\n",
        "%cd /content/gdrive/MyDrive/darknet/cfg\n",
        "!rm yolov4-custom.cfg\n",
        "!wget https://github.com/nhat132940/CS114.L21.KHCL/tree/main/Final_Project/yolov4-custom.cfg"
      ],
      "execution_count": null,
      "outputs": []
    },
    {
      "cell_type": "code",
      "metadata": {
        "id": "ineP012iC1Tr"
      },
      "source": [
        "#Tải dataset tại: https://drive.google.com/drive/u/1/folders/1OeK4bTS7ugPlaqtecBGlrJ_ZamtJllIw\n",
        "#Up file dataset lên thư mục darknet trên drive\n",
        "#Giải nén file data.zip\n",
        "%cd /content/gdrive/MyDrive/darknet/\n",
        "!unzip data.zip"
      ],
      "execution_count": null,
      "outputs": []
    },
    {
      "cell_type": "code",
      "metadata": {
        "id": "lK190HaVC1Wk"
      },
      "source": [
        "%cd /content/gdrive/My Drive/darknet/\n",
        "#Import các thư viện\n",
        "import glob2\n",
        "import math  \n",
        "import os\n",
        "import numpy as np\n",
        "\n",
        "#tìm kiếm các file có đuôi dạng: png, jpeg, jpg trong thư mục data\n",
        "files = []\n",
        "for ext in [\"*.png\", \"*.jpeg\", \"*.jpg\"]:\n",
        "  image_files = glob2.glob(os.path.join(\"data/\", ext))\n",
        "  print(image_files)\n",
        "  #lưu tất cả các file vào biến files\n",
        "  files += image_files\n",
        "  print(len(files))\n",
        "\n",
        "#Biến nb_val được gán bằng 0.2 độ dài của biến files(chứa tất cả các tên ảnh)\n",
        "nb_val = math.floor(len(files)*0.2)\n",
        "#Chọn ngẫu nhiên các ảnh trong biến files\n",
        "rand_idx = np.random.randint(0, len(files), nb_val)\n",
        "\n",
        "\n",
        "# Tạo file train.txt\n",
        "with open(\"/content/gdrive/My Drive/darknet/train.txt\", \"w\") as f:\n",
        "  for idx in np.arange(len(files)):\n",
        "    if (os.path.exists(files[idx][:-3] + \"txt\")):\n",
        "      f.write(files[idx]+'\\n')\n",
        "\n",
        "\n",
        "# Tạo file vali.txt\n",
        "with open(\"/content/gdrive/My Drive/darknet/val.txt\", \"w\") as f:\n",
        "  for idx in np.arange(len(files)):\n",
        "    if (idx in rand_idx) and (os.path.exists(files[idx][:-3] + \"txt\")):\n",
        "      f.write(files[idx]+'\\n')\n",
        "  print('done2')"
      ],
      "execution_count": null,
      "outputs": []
    },
    {
      "cell_type": "code",
      "metadata": {
        "id": "BgRdVNAHw5bv"
      },
      "source": [
        "#Tải pretrain\n",
        "%cd /content/gdrive/MyDrive/darknet\n",
        "!wget https://github.com/AlexeyAB/darknet/releases/download/darknet_yolo_v3_optimal/yolov4.conv.137"
      ],
      "execution_count": null,
      "outputs": []
    },
    {
      "cell_type": "code",
      "metadata": {
        "id": "hY36vh6VxPYM"
      },
      "source": [
        "#Chuyển darknet thành folder executable\n",
        "%cd /content/gdrive/MyDrive/darknet\n",
        "!make clean\n",
        "!make\n",
        "!chmod +x ./darknet"
      ],
      "execution_count": null,
      "outputs": []
    },
    {
      "cell_type": "code",
      "metadata": {
        "id": "Q9T0vHLLyI-c"
      },
      "source": [
        "#Train model\n",
        "%cd /content/gdrive/MyDrive/darknet\n",
        "!./darknet detector train yolo.data cfg/yolov4-custom.cfg yolov4.conv.137 -dont_show -map"
      ],
      "execution_count": null,
      "outputs": []
    },
    {
      "cell_type": "code",
      "metadata": {
        "id": "5n68lLbNYlb-"
      },
      "source": [
        "# Train tiếp model trong trường hợp bị gián đoạn bằng cách lấy dữ liệu từ file backup \n",
        "%cd /content/gdrive/MyDrive/darknet\n",
        "!./darknet detector train yolo.data cfg/yolov4-custom.cfg backup/yolov4-custom_last.weights -dont_show -map"
      ],
      "execution_count": null,
      "outputs": []
    },
    {
      "cell_type": "code",
      "metadata": {
        "id": "smhgD57lCO7X"
      },
      "source": [
        "#Tham khảo: https://devai.info/2020/12/15/huong-dan-training-object-detection-voi-yolov4-su-dung-google-colab/"
      ],
      "execution_count": null,
      "outputs": []
    }
  ]
}