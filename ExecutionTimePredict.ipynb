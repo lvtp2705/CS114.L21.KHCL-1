{
  "nbformat": 4,
  "nbformat_minor": 0,
  "metadata": {
    "colab": {
      "name": "ExecutionTimePredict.ipynb",
      "provenance": [],
      "collapsed_sections": [],
      "toc_visible": true,
      "authorship_tag": "ABX9TyPZ5yizmWMpK8qn92D5EzbQ",
      "include_colab_link": true
    },
    "kernelspec": {
      "name": "python3",
      "display_name": "Python 3"
    },
    "language_info": {
      "name": "python"
    }
  },
  "cells": [
    {
      "cell_type": "markdown",
      "metadata": {
        "id": "view-in-github",
        "colab_type": "text"
      },
      "source": [
        "<a href=\"https://colab.research.google.com/github/nhat132940/CS114.L21.KHCL/blob/main/ExecutionTimePredict.ipynb\" target=\"_parent\"><img src=\"https://colab.research.google.com/assets/colab-badge.svg\" alt=\"Open In Colab\"/></a>"
      ]
    },
    {
      "cell_type": "markdown",
      "metadata": {
        "id": "W_jW7TvC2rro"
      },
      "source": [
        "***Import các thư viện cần thiết***\n",
        "\n"
      ]
    },
    {
      "cell_type": "code",
      "metadata": {
        "id": "jWU6QKoElGAg"
      },
      "source": [
        "import pandas as pd\n",
        "import numpy as np\n",
        "from sklearn.linear_model import LinearRegression\n",
        "import matplotlib.pyplot as plt\n",
        "from sklearn.metrics import mean_squared_error\n"
      ],
      "execution_count": 49,
      "outputs": []
    },
    {
      "cell_type": "markdown",
      "metadata": {
        "id": "3YYBj-oz3D1c"
      },
      "source": [
        "**Đọc dữ liệu**"
      ]
    },
    {
      "cell_type": "code",
      "metadata": {
        "colab": {
          "base_uri": "https://localhost:8080/",
          "height": 419
        },
        "id": "6XpJjKh8jO-N",
        "outputId": "322058c9-8dd4-4534-a7de-2d023aee5730"
      },
      "source": [
        "#Đọc dữ liệu train\n",
        "cols=['Input_Size','Excution_Time']\n",
        "train_data = pd.read_csv('/content/train_data.csv',names= cols, header=None)\n",
        "\n",
        "x_train = np.array(train_data['Input_Size']).reshape(-1,1)\n",
        "y_train =np.array(train_data['Excution_Time'])\n",
        "\n",
        "#Đọc dữ liệu test\n",
        "test_data = pd.read_csv('/content/test_data.csv',names= cols, header=None)\n",
        "x_test = np.array(test_data['Input_Size']).reshape(-1,1)\n",
        "y_test = np.array(test_data['Excution_Time'])\n",
        "\n",
        "#Visualize dữ liệu train\n",
        "plt.plot(x_train,y_train,'.')\n",
        "plt.xlabel('Size')\n",
        "plt.ylabel('Excution Time')\n",
        "plt.axis([0,7000000,0,1])\n",
        "plt.show()\n",
        "\n",
        "print(x_test)\n",
        "print(y_test)\n"
      ],
      "execution_count": 50,
      "outputs": [
        {
          "output_type": "display_data",
          "data": {
            "image/png": "[encoded data removed]",
            "text/plain": [
              "<Figure size 432x288 with 1 Axes>"
            ]
          },
          "metadata": {
            "tags": [],
            "needs_background": "light"
          }
        },
        {
          "output_type": "stream",
          "text": [
            "[[37837612]\n",
            " [37395246]\n",
            " [36610827]\n",
            " ...\n",
            " [33520323]\n",
            " [21243264]\n",
            " [21380484]]\n",
            "[4.12166 3.92089 3.2154  ... 2.90918 1.80292 1.82795]\n"
          ],
          "name": "stdout"
        }
      ]
    },
    {
      "cell_type": "markdown",
      "metadata": {
        "id": "FLwTyC273WsG"
      },
      "source": [
        "***Train model với Linear Regression***\n"
      ]
    },
    {
      "cell_type": "code",
      "metadata": {
        "colab": {
          "base_uri": "https://localhost:8080/",
          "height": 296
        },
        "id": "F_s5z3wh3Rlt",
        "outputId": "6448fd0e-cdc8-4df9-f074-d2df7caa46a3"
      },
      "source": [
        "#Train model\n",
        "model = LinearRegression().fit(x_train, y_train)\n",
        "\n",
        "#Dự đoán và tính mean squared error trên bộ dữ liệu test\n",
        "y_predict = model.predict(x_test)\n",
        "print(\"Mean Squared Error: \", mean_squared_error(y_predict,y_test))\n",
        "\n",
        "#Visualize kết quả\n",
        "plt.plot(x_test,y_test,\".\")\n",
        "plt.plot(x_test,y_predict)\n",
        "plt.xlabel('Size')\n",
        "plt.ylabel('Execution Time')\n",
        "plt.show()\n",
        "\n"
      ],
      "execution_count": 51,
      "outputs": [
        {
          "output_type": "stream",
          "text": [
            "Mean Squared Error:  0.020664949395059667\n"
          ],
          "name": "stdout"
        },
        {
          "output_type": "display_data",
          "data": {
            "image/png": "[encoded data removed]",
            "text/plain": [
              "<Figure size 432x288 with 1 Axes>"
            ]
          },
          "metadata": {
            "tags": [],
            "needs_background": "light"
          }
        }
      ]
    },
    {
      "cell_type": "code",
      "metadata": {
        "colab": {
          "base_uri": "https://localhost:8080/"
        },
        "id": "MD-rNGzrENff",
        "outputId": "b511dce1-419e-4958-e40c-54b3164df190"
      },
      "source": [
        "#In một số giá trị test và predict\n",
        "print(y_test)\n",
        "print(y_predict)"
      ],
      "execution_count": 61,
      "outputs": [
        {
          "output_type": "stream",
          "text": [
            "[4.12166 3.92089 3.2154  ... 2.90918 1.80292 1.82795]\n",
            "[3.18353889 3.14613375 3.07980564 ... 2.81848194 1.78037084 1.79197375]\n"
          ],
          "name": "stdout"
        }
      ]
    },
    {
      "cell_type": "code",
      "metadata": {
        "colab": {
          "base_uri": "https://localhost:8080/"
        },
        "id": "XhY9ivCKACim",
        "outputId": "a30ae8ef-3d20-4032-8bb3-3562d4f7e035"
      },
      "source": [
        "#In ra 2 giá trị weight w1,w0 mà máy đã học được\n",
        "print(model.coef_,model.intercept_)"
      ],
      "execution_count": 40,
      "outputs": [
        {
          "output_type": "stream",
          "text": [
            "[8.45569856e-08] -0.01589552700314356\n"
          ],
          "name": "stdout"
        }
      ]
    },
    {
      "cell_type": "markdown",
      "metadata": {
        "id": "4w8e7Ll410T_"
      },
      "source": [
        "Từ 2 giá trị w0,w1 sau khi train, ta có được mối quan hệ của thời gian chạy chương trình và kích thước của chương trình:\n",
        "\n",
        "Time = (8.45569856e-08) * Size - 0.01589552700314356"
      ]
    }
  ]
}