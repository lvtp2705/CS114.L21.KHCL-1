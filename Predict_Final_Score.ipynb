{
  "nbformat": 4,
  "nbformat_minor": 0,
  "metadata": {
    "colab": {
      "name": "Predict_Final_Score.ipynb",
      "provenance": [],
      "collapsed_sections": [],
      "include_colab_link": true
    },
    "kernelspec": {
      "name": "python3",
      "display_name": "Python 3"
    },
    "language_info": {
      "name": "python"
    }
  },
  "cells": [
    {
      "cell_type": "markdown",
      "metadata": {
        "id": "view-in-github",
        "colab_type": "text"
      },
      "source": [
        "<a href=\"https://colab.research.google.com/github/nhat132940/CS114.L21.KHCL/blob/main/Predict_Final_Score.ipynb\" target=\"_parent\"><img src=\"https://colab.research.google.com/assets/colab-badge.svg\" alt=\"Open In Colab\"/></a>"
      ]
    },
    {
      "cell_type": "markdown",
      "metadata": {
        "id": "8W9u26L0nhN0"
      },
      "source": [
        "# ***Dự đoán điểm cuối kì***\n",
        "## ***Lớp: CS114.L21.KHCL***\n",
        "## ***Thành viên nhóm:***\n",
        "+ Phan Minh Nhật - 19521956\n",
        "+ Lê Võ Tiến Phát - 19521993\n",
        "+ Hồ Thịnh - 19522274"
      ]
    },
    {
      "cell_type": "markdown",
      "metadata": {
        "id": "jbBjMakEv1Ev"
      },
      "source": [
        "References: \n",
        "- https://pandas.pydata.org/docs/\n",
        "- https://matplotlib.org/\n",
        "\n",
        "\n"
      ]
    },
    {
      "cell_type": "markdown",
      "metadata": {
        "id": "NOeHdp6U2XHB"
      },
      "source": [
        "#**1. Load data**\n",
        "\n"
      ]
    },
    {
      "cell_type": "code",
      "metadata": {
        "id": "kjvEXP8_lHq4"
      },
      "source": [
        "import pandas as pd\n",
        "#Load dữ liệu\n",
        "wecode_data = pd.read_csv('/content/wecode.csv')\n",
        "score_training_data = pd.read_csv('/content/score_training.csv')"
      ],
      "execution_count": null,
      "outputs": []
    },
    {
      "cell_type": "code",
      "metadata": {
        "id": "-x3FcSgwq90P",
        "colab": {
          "base_uri": "https://localhost:8080/",
          "height": 204
        },
        "outputId": "6bdde9ac-e2b2-4484-d27f-cef0a237c014"
      },
      "source": [
        "wecode_data.head()"
      ],
      "execution_count": null,
      "outputs": [
        {
          "output_type": "execute_result",
          "data": {
            "text/html": [
              "<div>\n",
              "<style scoped>\n",
              "    .dataframe tbody tr th:only-of-type {\n",
              "        vertical-align: middle;\n",
              "    }\n",
              "\n",
              "    .dataframe tbody tr th {\n",
              "        vertical-align: top;\n",
              "    }\n",
              "\n",
              "    .dataframe thead th {\n",
              "        text-align: right;\n",
              "    }\n",
              "</style>\n",
              "<table border=\"1\" class=\"dataframe\">\n",
              "  <thead>\n",
              "    <tr style=\"text-align: right;\">\n",
              "      <th></th>\n",
              "      <th>id</th>\n",
              "      <th>assignment_id</th>\n",
              "      <th>problem_id</th>\n",
              "      <th>user_id</th>\n",
              "      <th>is_final</th>\n",
              "      <th>status</th>\n",
              "      <th>pre_score</th>\n",
              "      <th>coefficient</th>\n",
              "      <th>file_name</th>\n",
              "      <th>language_id</th>\n",
              "      <th>created_at</th>\n",
              "      <th>updated_at</th>\n",
              "    </tr>\n",
              "  </thead>\n",
              "  <tbody>\n",
              "    <tr>\n",
              "      <th>0</th>\n",
              "      <td>4</td>\n",
              "      <td>0</td>\n",
              "      <td>3</td>\n",
              "      <td>4</td>\n",
              "      <td>1</td>\n",
              "      <td>SCORE</td>\n",
              "      <td>10000</td>\n",
              "      <td>100</td>\n",
              "      <td>solution-0</td>\n",
              "      <td>2</td>\n",
              "      <td>2020-10-30 10:58:11</td>\n",
              "      <td>2020-10-30 10:58:19</td>\n",
              "    </tr>\n",
              "    <tr>\n",
              "      <th>1</th>\n",
              "      <td>5</td>\n",
              "      <td>0</td>\n",
              "      <td>4</td>\n",
              "      <td>4</td>\n",
              "      <td>1</td>\n",
              "      <td>SCORE</td>\n",
              "      <td>10000</td>\n",
              "      <td>100</td>\n",
              "      <td>solution-1</td>\n",
              "      <td>2</td>\n",
              "      <td>2020-10-30 11:07:09</td>\n",
              "      <td>2020-10-30 11:07:17</td>\n",
              "    </tr>\n",
              "    <tr>\n",
              "      <th>2</th>\n",
              "      <td>6</td>\n",
              "      <td>0</td>\n",
              "      <td>5</td>\n",
              "      <td>4</td>\n",
              "      <td>0</td>\n",
              "      <td>Compilation Error</td>\n",
              "      <td>0</td>\n",
              "      <td>100</td>\n",
              "      <td>solution-2</td>\n",
              "      <td>2</td>\n",
              "      <td>2020-10-30 11:08:01</td>\n",
              "      <td>2020-10-30 11:23:36</td>\n",
              "    </tr>\n",
              "    <tr>\n",
              "      <th>3</th>\n",
              "      <td>7</td>\n",
              "      <td>0</td>\n",
              "      <td>5</td>\n",
              "      <td>4</td>\n",
              "      <td>0</td>\n",
              "      <td>Compilation Error</td>\n",
              "      <td>0</td>\n",
              "      <td>100</td>\n",
              "      <td>solution-3</td>\n",
              "      <td>2</td>\n",
              "      <td>2020-10-30 11:11:41</td>\n",
              "      <td>2020-10-30 11:11:42</td>\n",
              "    </tr>\n",
              "    <tr>\n",
              "      <th>4</th>\n",
              "      <td>8</td>\n",
              "      <td>0</td>\n",
              "      <td>5</td>\n",
              "      <td>4</td>\n",
              "      <td>0</td>\n",
              "      <td>Compilation Error</td>\n",
              "      <td>0</td>\n",
              "      <td>100</td>\n",
              "      <td>solution-4</td>\n",
              "      <td>2</td>\n",
              "      <td>2020-10-30 11:15:06</td>\n",
              "      <td>2020-10-30 11:15:07</td>\n",
              "    </tr>\n",
              "  </tbody>\n",
              "</table>\n",
              "</div>"
            ],
            "text/plain": [
              "   id  assignment_id  ...           created_at           updated_at\n",
              "0   4              0  ...  2020-10-30 10:58:11  2020-10-30 10:58:19\n",
              "1   5              0  ...  2020-10-30 11:07:09  2020-10-30 11:07:17\n",
              "2   6              0  ...  2020-10-30 11:08:01  2020-10-30 11:23:36\n",
              "3   7              0  ...  2020-10-30 11:11:41  2020-10-30 11:11:42\n",
              "4   8              0  ...  2020-10-30 11:15:06  2020-10-30 11:15:07\n",
              "\n",
              "[5 rows x 12 columns]"
            ]
          },
          "metadata": {
            "tags": []
          },
          "execution_count": 67
        }
      ]
    },
    {
      "cell_type": "code",
      "metadata": {
        "id": "WK8uD5LdrBsV",
        "colab": {
          "base_uri": "https://localhost:8080/",
          "height": 204
        },
        "outputId": "85284160-3bf1-4164-cd1c-5f13aac4e25f"
      },
      "source": [
        "score_training_data.head()"
      ],
      "execution_count": null,
      "outputs": [
        {
          "output_type": "execute_result",
          "data": {
            "text/html": [
              "<div>\n",
              "<style scoped>\n",
              "    .dataframe tbody tr th:only-of-type {\n",
              "        vertical-align: middle;\n",
              "    }\n",
              "\n",
              "    .dataframe tbody tr th {\n",
              "        vertical-align: top;\n",
              "    }\n",
              "\n",
              "    .dataframe thead th {\n",
              "        text-align: right;\n",
              "    }\n",
              "</style>\n",
              "<table border=\"1\" class=\"dataframe\">\n",
              "  <thead>\n",
              "    <tr style=\"text-align: right;\">\n",
              "      <th></th>\n",
              "      <th>id</th>\n",
              "      <th>QT</th>\n",
              "      <th>GK</th>\n",
              "      <th>TH</th>\n",
              "      <th>CK</th>\n",
              "      <th>TBM</th>\n",
              "      <th>TBTL</th>\n",
              "    </tr>\n",
              "  </thead>\n",
              "  <tbody>\n",
              "    <tr>\n",
              "      <th>0</th>\n",
              "      <td>22</td>\n",
              "      <td>10</td>\n",
              "      <td>9</td>\n",
              "      <td>8.5</td>\n",
              "      <td>8.5</td>\n",
              "      <td>8.8</td>\n",
              "      <td>8.52</td>\n",
              "    </tr>\n",
              "    <tr>\n",
              "      <th>1</th>\n",
              "      <td>24</td>\n",
              "      <td>10</td>\n",
              "      <td>8</td>\n",
              "      <td>10</td>\n",
              "      <td>9.5</td>\n",
              "      <td>9.4</td>\n",
              "      <td>8.41</td>\n",
              "    </tr>\n",
              "    <tr>\n",
              "      <th>2</th>\n",
              "      <td>27</td>\n",
              "      <td>10</td>\n",
              "      <td>10</td>\n",
              "      <td>10</td>\n",
              "      <td>10</td>\n",
              "      <td>10</td>\n",
              "      <td>8.67</td>\n",
              "    </tr>\n",
              "    <tr>\n",
              "      <th>3</th>\n",
              "      <td>28</td>\n",
              "      <td>10</td>\n",
              "      <td>9.5</td>\n",
              "      <td>7.5</td>\n",
              "      <td>9.5</td>\n",
              "      <td>9.2</td>\n",
              "      <td>7.39</td>\n",
              "    </tr>\n",
              "    <tr>\n",
              "      <th>4</th>\n",
              "      <td>29</td>\n",
              "      <td>10</td>\n",
              "      <td>9.5</td>\n",
              "      <td>5</td>\n",
              "      <td>8.5</td>\n",
              "      <td>8.2</td>\n",
              "      <td>8.05</td>\n",
              "    </tr>\n",
              "  </tbody>\n",
              "</table>\n",
              "</div>"
            ],
            "text/plain": [
              "   id  QT   GK   TH   CK  TBM  TBTL\n",
              "0  22  10    9  8.5  8.5  8.8  8.52\n",
              "1  24  10    8   10  9.5  9.4  8.41\n",
              "2  27  10   10   10   10   10  8.67\n",
              "3  28  10  9.5  7.5  9.5  9.2  7.39\n",
              "4  29  10  9.5    5  8.5  8.2  8.05"
            ]
          },
          "metadata": {
            "tags": []
          },
          "execution_count": 68
        }
      ]
    },
    {
      "cell_type": "code",
      "metadata": {
        "id": "Cu2n9wbeuw2E",
        "colab": {
          "base_uri": "https://localhost:8080/"
        },
        "outputId": "fdf22edb-eeee-425f-b7c1-5f2c18c4f84a"
      },
      "source": [
        "#Thông tin dữ liệu\n",
        "wecode_data.info()"
      ],
      "execution_count": null,
      "outputs": [
        {
          "output_type": "stream",
          "text": [
            "<class 'pandas.core.frame.DataFrame'>\n",
            "RangeIndex: 264606 entries, 0 to 264605\n",
            "Data columns (total 12 columns):\n",
            " #   Column         Non-Null Count   Dtype \n",
            "---  ------         --------------   ----- \n",
            " 0   id             264606 non-null  int64 \n",
            " 1   assignment_id  264606 non-null  int64 \n",
            " 2   problem_id     264606 non-null  int64 \n",
            " 3   user_id        264606 non-null  int64 \n",
            " 4   is_final       264606 non-null  int64 \n",
            " 5   status         264605 non-null  object\n",
            " 6   pre_score      264606 non-null  int64 \n",
            " 7   coefficient    264606 non-null  object\n",
            " 8   file_name      264606 non-null  object\n",
            " 9   language_id    264606 non-null  int64 \n",
            " 10  created_at     264606 non-null  object\n",
            " 11  updated_at     264606 non-null  object\n",
            "dtypes: int64(7), object(5)\n",
            "memory usage: 24.2+ MB\n"
          ],
          "name": "stdout"
        }
      ]
    },
    {
      "cell_type": "code",
      "metadata": {
        "id": "WbiPvHafvD7I",
        "colab": {
          "base_uri": "https://localhost:8080/"
        },
        "outputId": "35f694e0-efd6-40c5-9bfb-cc50d66ddd18"
      },
      "source": [
        "score_training_data.info()"
      ],
      "execution_count": null,
      "outputs": [
        {
          "output_type": "stream",
          "text": [
            "<class 'pandas.core.frame.DataFrame'>\n",
            "RangeIndex: 975 entries, 0 to 974\n",
            "Data columns (total 7 columns):\n",
            " #   Column  Non-Null Count  Dtype \n",
            "---  ------  --------------  ----- \n",
            " 0   id      975 non-null    int64 \n",
            " 1   QT      973 non-null    object\n",
            " 2   GK      974 non-null    object\n",
            " 3   TH      974 non-null    object\n",
            " 4   CK      974 non-null    object\n",
            " 5   TBM     974 non-null    object\n",
            " 6   TBTL    974 non-null    object\n",
            "dtypes: int64(1), object(6)\n",
            "memory usage: 53.4+ KB\n"
          ],
          "name": "stdout"
        }
      ]
    },
    {
      "cell_type": "markdown",
      "metadata": {
        "id": "aqhcMwJa101n"
      },
      "source": [
        "*Ta thấy kiểu dữ liệu của cột cuối kì là object, vì vậy để vẽ được scatter plot thì ta phải chuyển nó về kiểu số.*"
      ]
    },
    {
      "cell_type": "code",
      "metadata": {
        "id": "ZF2D4QRlZr4f"
      },
      "source": [
        "#Chuyển kiểu dữ liệu của cột CK về dạng số\n",
        "score_training_data['CK'] = score_training_data['CK'].apply(pd.to_numeric, errors='coerce')"
      ],
      "execution_count": null,
      "outputs": []
    },
    {
      "cell_type": "markdown",
      "metadata": {
        "id": "6GlChA503BVQ"
      },
      "source": [
        "#**2. Preprocessing data** "
      ]
    },
    {
      "cell_type": "code",
      "metadata": {
        "id": "8z-N7N4Jq8P1"
      },
      "source": [
        "#Lấy các cột cần thiết\n",
        "wecode_data1 = wecode_data[['user_id', 'is_final', 'pre_score']]\n",
        "score_training_data1 = score_training_data[['id','CK']]\n",
        "\n",
        "#Đổi tên cột id trong file score_training thành user_id để giống file wecode \n",
        "score_training_data2 = score_training_data1.rename(columns = {'id' : 'user_id'})\n"
      ],
      "execution_count": null,
      "outputs": []
    },
    {
      "cell_type": "code",
      "metadata": {
        "id": "8T7nAMIRrL1a",
        "colab": {
          "base_uri": "https://localhost:8080/",
          "height": 204
        },
        "outputId": "48a1d9e7-1655-4f59-d83d-d888f27cccc3"
      },
      "source": [
        "wecode_data1.head()"
      ],
      "execution_count": null,
      "outputs": [
        {
          "output_type": "execute_result",
          "data": {
            "text/html": [
              "<div>\n",
              "<style scoped>\n",
              "    .dataframe tbody tr th:only-of-type {\n",
              "        vertical-align: middle;\n",
              "    }\n",
              "\n",
              "    .dataframe tbody tr th {\n",
              "        vertical-align: top;\n",
              "    }\n",
              "\n",
              "    .dataframe thead th {\n",
              "        text-align: right;\n",
              "    }\n",
              "</style>\n",
              "<table border=\"1\" class=\"dataframe\">\n",
              "  <thead>\n",
              "    <tr style=\"text-align: right;\">\n",
              "      <th></th>\n",
              "      <th>user_id</th>\n",
              "      <th>is_final</th>\n",
              "      <th>pre_score</th>\n",
              "    </tr>\n",
              "  </thead>\n",
              "  <tbody>\n",
              "    <tr>\n",
              "      <th>0</th>\n",
              "      <td>4</td>\n",
              "      <td>1</td>\n",
              "      <td>10000</td>\n",
              "    </tr>\n",
              "    <tr>\n",
              "      <th>1</th>\n",
              "      <td>4</td>\n",
              "      <td>1</td>\n",
              "      <td>10000</td>\n",
              "    </tr>\n",
              "    <tr>\n",
              "      <th>2</th>\n",
              "      <td>4</td>\n",
              "      <td>0</td>\n",
              "      <td>0</td>\n",
              "    </tr>\n",
              "    <tr>\n",
              "      <th>3</th>\n",
              "      <td>4</td>\n",
              "      <td>0</td>\n",
              "      <td>0</td>\n",
              "    </tr>\n",
              "    <tr>\n",
              "      <th>4</th>\n",
              "      <td>4</td>\n",
              "      <td>0</td>\n",
              "      <td>0</td>\n",
              "    </tr>\n",
              "  </tbody>\n",
              "</table>\n",
              "</div>"
            ],
            "text/plain": [
              "   user_id  is_final  pre_score\n",
              "0        4         1      10000\n",
              "1        4         1      10000\n",
              "2        4         0          0\n",
              "3        4         0          0\n",
              "4        4         0          0"
            ]
          },
          "metadata": {
            "tags": []
          },
          "execution_count": 73
        }
      ]
    },
    {
      "cell_type": "code",
      "metadata": {
        "id": "C0efjCKdrYvU",
        "colab": {
          "base_uri": "https://localhost:8080/",
          "height": 204
        },
        "outputId": "9a3998af-9b4c-4c6a-81d5-78df71721710"
      },
      "source": [
        "score_training_data2.head()"
      ],
      "execution_count": null,
      "outputs": [
        {
          "output_type": "execute_result",
          "data": {
            "text/html": [
              "<div>\n",
              "<style scoped>\n",
              "    .dataframe tbody tr th:only-of-type {\n",
              "        vertical-align: middle;\n",
              "    }\n",
              "\n",
              "    .dataframe tbody tr th {\n",
              "        vertical-align: top;\n",
              "    }\n",
              "\n",
              "    .dataframe thead th {\n",
              "        text-align: right;\n",
              "    }\n",
              "</style>\n",
              "<table border=\"1\" class=\"dataframe\">\n",
              "  <thead>\n",
              "    <tr style=\"text-align: right;\">\n",
              "      <th></th>\n",
              "      <th>user_id</th>\n",
              "      <th>CK</th>\n",
              "    </tr>\n",
              "  </thead>\n",
              "  <tbody>\n",
              "    <tr>\n",
              "      <th>0</th>\n",
              "      <td>22</td>\n",
              "      <td>8.5</td>\n",
              "    </tr>\n",
              "    <tr>\n",
              "      <th>1</th>\n",
              "      <td>24</td>\n",
              "      <td>9.5</td>\n",
              "    </tr>\n",
              "    <tr>\n",
              "      <th>2</th>\n",
              "      <td>27</td>\n",
              "      <td>10.0</td>\n",
              "    </tr>\n",
              "    <tr>\n",
              "      <th>3</th>\n",
              "      <td>28</td>\n",
              "      <td>9.5</td>\n",
              "    </tr>\n",
              "    <tr>\n",
              "      <th>4</th>\n",
              "      <td>29</td>\n",
              "      <td>8.5</td>\n",
              "    </tr>\n",
              "  </tbody>\n",
              "</table>\n",
              "</div>"
            ],
            "text/plain": [
              "   user_id    CK\n",
              "0       22   8.5\n",
              "1       24   9.5\n",
              "2       27  10.0\n",
              "3       28   9.5\n",
              "4       29   8.5"
            ]
          },
          "metadata": {
            "tags": []
          },
          "execution_count": 74
        }
      ]
    },
    {
      "cell_type": "code",
      "metadata": {
        "colab": {
          "base_uri": "https://localhost:8080/",
          "height": 419
        },
        "id": "7f21mXLlqyPV",
        "outputId": "1936bcac-7969-4bc9-caef-61c3b7786577"
      },
      "source": [
        "import matplotlib.pyplot as plt\n",
        "import numpy as np\n",
        "\n",
        "#Hàm kiểm tra submit đúng\n",
        "def right_submission(df):\n",
        "    if (df['is_final'] == 1) and (df['pre_score'] == 10000):\n",
        "      return 1\n",
        "    else:\n",
        "      return 0\n",
        "\n",
        "#Thêm cột bài nộp có đúng hay không\n",
        "wecode_data1['right_submission'] = wecode_data1.apply(right_submission, axis=1)\n",
        "\n",
        "#Gom nhóm theo user_id\n",
        "groupby_user_id = wecode_data1.groupby(by='user_id', sort=True)\n",
        "\n",
        "#Tạo bảng mới chứa các thông tin cần thiết\n",
        "new_file = pd.DataFrame({'number_of_right_submission': groupby_user_id['right_submission'].sum(),\n",
        "                        'sum_pre_score': groupby_user_id['pre_score'].sum(),\n",
        "                        'submit_times': groupby_user_id['user_id'].count(),})\n",
        "\n",
        "#Thêm cột tỉ lệ nộp bài đúng vào new_file\n",
        "new_file['right_submit_rate'] = new_file['number_of_right_submission'] / new_file['submit_times']\n",
        "\n",
        "#Trộn 2 bảng chứa thông tin cần thiết lại với nhau\n",
        "new_file = new_file.merge(score_training_data2, on = 'user_id')\n",
        "\n",
        "new_file\n"
      ],
      "execution_count": null,
      "outputs": [
        {
          "output_type": "execute_result",
          "data": {
            "text/html": [
              "<div>\n",
              "<style scoped>\n",
              "    .dataframe tbody tr th:only-of-type {\n",
              "        vertical-align: middle;\n",
              "    }\n",
              "\n",
              "    .dataframe tbody tr th {\n",
              "        vertical-align: top;\n",
              "    }\n",
              "\n",
              "    .dataframe thead th {\n",
              "        text-align: right;\n",
              "    }\n",
              "</style>\n",
              "<table border=\"1\" class=\"dataframe\">\n",
              "  <thead>\n",
              "    <tr style=\"text-align: right;\">\n",
              "      <th></th>\n",
              "      <th>user_id</th>\n",
              "      <th>number_of_right_submission</th>\n",
              "      <th>sum_pre_score</th>\n",
              "      <th>submit_times</th>\n",
              "      <th>right_submit_rate</th>\n",
              "      <th>CK</th>\n",
              "    </tr>\n",
              "  </thead>\n",
              "  <tbody>\n",
              "    <tr>\n",
              "      <th>0</th>\n",
              "      <td>24</td>\n",
              "      <td>72</td>\n",
              "      <td>1031674</td>\n",
              "      <td>164</td>\n",
              "      <td>0.439024</td>\n",
              "      <td>9.5</td>\n",
              "    </tr>\n",
              "    <tr>\n",
              "      <th>1</th>\n",
              "      <td>27</td>\n",
              "      <td>3</td>\n",
              "      <td>52000</td>\n",
              "      <td>13</td>\n",
              "      <td>0.230769</td>\n",
              "      <td>10.0</td>\n",
              "    </tr>\n",
              "    <tr>\n",
              "      <th>2</th>\n",
              "      <td>29</td>\n",
              "      <td>72</td>\n",
              "      <td>1225828</td>\n",
              "      <td>199</td>\n",
              "      <td>0.361809</td>\n",
              "      <td>8.5</td>\n",
              "    </tr>\n",
              "    <tr>\n",
              "      <th>3</th>\n",
              "      <td>34</td>\n",
              "      <td>81</td>\n",
              "      <td>1206981</td>\n",
              "      <td>218</td>\n",
              "      <td>0.371560</td>\n",
              "      <td>6.5</td>\n",
              "    </tr>\n",
              "    <tr>\n",
              "      <th>4</th>\n",
              "      <td>35</td>\n",
              "      <td>145</td>\n",
              "      <td>1809718</td>\n",
              "      <td>297</td>\n",
              "      <td>0.488215</td>\n",
              "      <td>4.5</td>\n",
              "    </tr>\n",
              "    <tr>\n",
              "      <th>...</th>\n",
              "      <td>...</td>\n",
              "      <td>...</td>\n",
              "      <td>...</td>\n",
              "      <td>...</td>\n",
              "      <td>...</td>\n",
              "      <td>...</td>\n",
              "    </tr>\n",
              "    <tr>\n",
              "      <th>848</th>\n",
              "      <td>1856</td>\n",
              "      <td>23</td>\n",
              "      <td>329074</td>\n",
              "      <td>64</td>\n",
              "      <td>0.359375</td>\n",
              "      <td>7.5</td>\n",
              "    </tr>\n",
              "    <tr>\n",
              "      <th>849</th>\n",
              "      <td>1857</td>\n",
              "      <td>37</td>\n",
              "      <td>389000</td>\n",
              "      <td>55</td>\n",
              "      <td>0.672727</td>\n",
              "      <td>4.0</td>\n",
              "    </tr>\n",
              "    <tr>\n",
              "      <th>850</th>\n",
              "      <td>1859</td>\n",
              "      <td>3</td>\n",
              "      <td>39000</td>\n",
              "      <td>31</td>\n",
              "      <td>0.096774</td>\n",
              "      <td>1.5</td>\n",
              "    </tr>\n",
              "    <tr>\n",
              "      <th>851</th>\n",
              "      <td>1862</td>\n",
              "      <td>4</td>\n",
              "      <td>40000</td>\n",
              "      <td>12</td>\n",
              "      <td>0.333333</td>\n",
              "      <td>7.5</td>\n",
              "    </tr>\n",
              "    <tr>\n",
              "      <th>852</th>\n",
              "      <td>1865</td>\n",
              "      <td>10</td>\n",
              "      <td>189460</td>\n",
              "      <td>99</td>\n",
              "      <td>0.101010</td>\n",
              "      <td>7.5</td>\n",
              "    </tr>\n",
              "  </tbody>\n",
              "</table>\n",
              "<p>853 rows × 6 columns</p>\n",
              "</div>"
            ],
            "text/plain": [
              "     user_id  number_of_right_submission  ...  right_submit_rate    CK\n",
              "0         24                          72  ...           0.439024   9.5\n",
              "1         27                           3  ...           0.230769  10.0\n",
              "2         29                          72  ...           0.361809   8.5\n",
              "3         34                          81  ...           0.371560   6.5\n",
              "4         35                         145  ...           0.488215   4.5\n",
              "..       ...                         ...  ...                ...   ...\n",
              "848     1856                          23  ...           0.359375   7.5\n",
              "849     1857                          37  ...           0.672727   4.0\n",
              "850     1859                           3  ...           0.096774   1.5\n",
              "851     1862                           4  ...           0.333333   7.5\n",
              "852     1865                          10  ...           0.101010   7.5\n",
              "\n",
              "[853 rows x 6 columns]"
            ]
          },
          "metadata": {
            "tags": []
          },
          "execution_count": 75
        }
      ]
    },
    {
      "cell_type": "markdown",
      "metadata": {
        "id": "-2wf6ew7tBkd"
      },
      "source": [
        "**Visualize and evaluate**"
      ]
    },
    {
      "cell_type": "code",
      "metadata": {
        "colab": {
          "base_uri": "https://localhost:8080/",
          "height": 279
        },
        "id": "rQ6r-d3J9d26",
        "outputId": "ad7ae68b-804d-4bb7-cd63-00a20fa21c38"
      },
      "source": [
        "#Visualize mối liên hệ giữa số lượng bài nộp đúng và điểm cuối kì\n",
        "x = np.array(new_file['number_of_right_submission'])\n",
        "y = np.array(new_file['CK'])\n",
        "plt.xlabel('Number of right submission')\n",
        "plt.ylabel('Final score')\n",
        "plt.scatter(x,y)\n",
        "plt.show()"
      ],
      "execution_count": null,
      "outputs": [
        {
          "output_type": "display_data",
          "data": {
            "image/png": "[encoded data removed]",
            "text/plain": [
              "<Figure size 432x288 with 1 Axes>"
            ]
          },
          "metadata": {
            "tags": [],
            "needs_background": "light"
          }
        }
      ]
    },
    {
      "cell_type": "markdown",
      "metadata": {
        "id": "yjTWcGb0h04-"
      },
      "source": [
        "Từ scatter plot trên ta có thể thấy được:\n",
        "- Trong khoảng số lượng bài nộp đúng từ 0 đến 100, các điểm phân bố khá đều trong khoảng điểm CK 2 cho đến 9 điểm, trong khoảng này ta chưa thể thấy được mối liên hệ giữa điểm cuối kì và số lượng bài nộp đúng.\n",
        "- Trong khoảng 100 đến 250, ta có thể thấy số lượng bài nộp đúng càng nhiều thì điểm cuối kì càng cao.\n",
        "\n",
        "***Vậy ta có thể dựa vào yếu tố số lượng bài nộp đúng để dự đoán điểm cuối kì, tuy nhiên kết quả dự đoán có thể không chính xác vì có các điểm dữ liệu bất thường(ví dụ như các điểm có số bài nộp đúng rất ít nhưng vẫn được điểm rất cao).***\n",
        "\n",
        "\n"
      ]
    },
    {
      "cell_type": "code",
      "metadata": {
        "colab": {
          "base_uri": "https://localhost:8080/",
          "height": 280
        },
        "id": "gj3uG6jSIdoQ",
        "outputId": "06c2bda0-2571-4686-cdda-b963fdd92c21"
      },
      "source": [
        "#Visualize mối liên hệ giữa tổng pre_score và điểm cuối kì\n",
        "x = np.array(new_file['sum_pre_score'])\n",
        "y = np.array(new_file['CK'])\n",
        "plt.xlabel('Sum of pre_score')\n",
        "plt.ylabel('Final score')\n",
        "plt.scatter(x,y)\n",
        "plt.show()"
      ],
      "execution_count": null,
      "outputs": [
        {
          "output_type": "display_data",
          "data": {
            "image/png": "[encoded data removed]",
            "text/plain": [
              "<Figure size 432x288 with 1 Axes>"
            ]
          },
          "metadata": {
            "tags": [],
            "needs_background": "light"
          }
        }
      ]
    },
    {
      "cell_type": "markdown",
      "metadata": {
        "id": "UgxfWXRjJkGY"
      },
      "source": [
        "Từ scatter plot ta thấy:\n",
        "- Trong khoảng pre_score từ 0 đến khoảng 1400000, các điểm phân bố khá đều với điểm CK từ 0 dến 9.5.\n",
        "- Từ khoảng 1400000 về sau, hầu hết khi pre_score càng cao thì điểm cuối kì càng cao.\n",
        "\n",
        "**Vậy ta thấy yếu tố tổng pre_score có mối liên với điểm cuối kì khá giống với yếu tố số lượng bài nộp đúng. Ta có thể dùng được yếu tố này nhưng độ chính xác sẽ không cao vì sẽ có nhiều điểm dữ liệu bất thường.**"
      ]
    },
    {
      "cell_type": "code",
      "metadata": {
        "colab": {
          "base_uri": "https://localhost:8080/",
          "height": 279
        },
        "id": "EdAl9kfGM9M8",
        "outputId": "c9a0dfe3-a7f7-4a54-f72a-2dd117fe444b"
      },
      "source": [
        "#Visualize mối liên hệ giữa số lần nộp bài và điểm cuối kì\n",
        "x = np.array(new_file['submit_times'])\n",
        "y = np.array(new_file['CK'])\n",
        "plt.xlabel('Submit times')\n",
        "plt.ylabel('Final score')\n",
        "plt.scatter(x,y)\n",
        "plt.show()"
      ],
      "execution_count": null,
      "outputs": [
        {
          "output_type": "display_data",
          "data": {
            "image/png": "[encoded data removed]",
            "text/plain": [
              "<Figure size 432x288 with 1 Axes>"
            ]
          },
          "metadata": {
            "tags": [],
            "needs_background": "light"
          }
        }
      ]
    },
    {
      "cell_type": "markdown",
      "metadata": {
        "id": "raBG-TIDONpG"
      },
      "source": [
        "Từ scatter plot ta thấy:\n",
        "- Các điểm dữ liệu phân bố khá dày trong khoảng 0 đến 400 lần nộp, với điểm cuối kì trong khoảng 4 đến 9 điểm.\n",
        "- Sau khoảng 400 lần nộp này thì chỉ có điểm CK là 4 trở lên.\n",
        "\n",
        "**Yếu tố số lần nộp bài cũng khá giống với các yếu tố trên,\n",
        "độ chính xác sẽ không cao, có thể cân nhắc để thử khi train model.**"
      ]
    },
    {
      "cell_type": "code",
      "metadata": {
        "colab": {
          "base_uri": "https://localhost:8080/",
          "height": 279
        },
        "id": "oh4F_EpvRKpv",
        "outputId": "59d02200-c486-4ca6-ea5d-09088011718e"
      },
      "source": [
        "#Visualize mối liên hệ giữa tỉ lệ nộp bài đúng và điểm cuối kì\n",
        "x = np.array(new_file['right_submit_rate'])\n",
        "y = np.array(new_file['CK'])\n",
        "plt.xlabel('Right submit rate')\n",
        "plt.ylabel('Final score')\n",
        "plt.scatter(x,y)\n",
        "plt.show()"
      ],
      "execution_count": null,
      "outputs": [
        {
          "output_type": "display_data",
          "data": {
            "image/png": "[encoded data removed]",
            "text/plain": [
              "<Figure size 432x288 with 1 Axes>"
            ]
          },
          "metadata": {
            "tags": [],
            "needs_background": "light"
          }
        }
      ]
    },
    {
      "cell_type": "markdown",
      "metadata": {
        "id": "RHfVOOysR9W1"
      },
      "source": [
        "Từ scatter plot ta thấy:\n",
        "- Ta thấy trong khoảng tỉ lệ nộp bài đúng từ 0.2 đến 0.6, các điểm dữ liệu phân bố khá đều, với điểm CK trong khoảng 0 đến 9.5 điểm.\n",
        "- Có khá nhiều điểm dữ liệu bất thường. VD: có các điểm có tỉ lệ nộp đúng cao nhưng điểm cuối kì thấp và các điểm có tỉ lệ nộp đúng thấp thì lại có điếm cao.\n",
        "\n",
        "**Nếu dùng yếu tố này để train model thì độ chính xác sẽ khá thấp, không nên dùng để train model.** \n"
      ]
    },
    {
      "cell_type": "markdown",
      "metadata": {
        "id": "aUgK6y16UW9W"
      },
      "source": [
        "### **Nhận xét:**\n",
        "- Với bộ dữ liệu cho trước này, khá khó để tìm được yếu tố để có được kết quả chính xác nhất.\n",
        "- Có thể thử lần lượt các yếu tố ở trên hoặc nhiều yếu tố cùng lúc để áp dụng vào model rồi đánh giá độ chính xác qua mỗi lần thử --> Tìm ra các yếu tố có độ chính xác cao nhất."
      ]
    },
    {
      "cell_type": "markdown",
      "metadata": {
        "id": "KHSYHp5Wn96F"
      },
      "source": [
        "##**3. Train model**"
      ]
    },
    {
      "cell_type": "code",
      "metadata": {
        "id": "wklxWhTB0MD9"
      },
      "source": [
        "#Tách dữ liệu thành 2 phần khác nhau\n",
        "#Xóa các hàng chưa có điểm cuối kì để được dữ liệu train\n",
        "train_data = new_file.dropna(how='any')\n",
        "#Lấy các hàng chưa có điểm cuối kì để predict\n",
        "predict_data = new_file[new_file.isna().any(axis=1)]"
      ],
      "execution_count": null,
      "outputs": []
    },
    {
      "cell_type": "code",
      "metadata": {
        "colab": {
          "base_uri": "https://localhost:8080/",
          "height": 359
        },
        "id": "nzaFB3cjDxNy",
        "outputId": "0cd2437a-b972-4474-eaa3-a3852e374e50"
      },
      "source": [
        "train_data.head(10)"
      ],
      "execution_count": null,
      "outputs": [
        {
          "output_type": "execute_result",
          "data": {
            "text/html": [
              "<div>\n",
              "<style scoped>\n",
              "    .dataframe tbody tr th:only-of-type {\n",
              "        vertical-align: middle;\n",
              "    }\n",
              "\n",
              "    .dataframe tbody tr th {\n",
              "        vertical-align: top;\n",
              "    }\n",
              "\n",
              "    .dataframe thead th {\n",
              "        text-align: right;\n",
              "    }\n",
              "</style>\n",
              "<table border=\"1\" class=\"dataframe\">\n",
              "  <thead>\n",
              "    <tr style=\"text-align: right;\">\n",
              "      <th></th>\n",
              "      <th>user_id</th>\n",
              "      <th>number_of_right_submission</th>\n",
              "      <th>sum_pre_score</th>\n",
              "      <th>submit_times</th>\n",
              "      <th>right_submit_rate</th>\n",
              "      <th>CK</th>\n",
              "    </tr>\n",
              "  </thead>\n",
              "  <tbody>\n",
              "    <tr>\n",
              "      <th>0</th>\n",
              "      <td>24</td>\n",
              "      <td>72</td>\n",
              "      <td>1031674</td>\n",
              "      <td>164</td>\n",
              "      <td>0.439024</td>\n",
              "      <td>9.5</td>\n",
              "    </tr>\n",
              "    <tr>\n",
              "      <th>1</th>\n",
              "      <td>27</td>\n",
              "      <td>3</td>\n",
              "      <td>52000</td>\n",
              "      <td>13</td>\n",
              "      <td>0.230769</td>\n",
              "      <td>10.0</td>\n",
              "    </tr>\n",
              "    <tr>\n",
              "      <th>2</th>\n",
              "      <td>29</td>\n",
              "      <td>72</td>\n",
              "      <td>1225828</td>\n",
              "      <td>199</td>\n",
              "      <td>0.361809</td>\n",
              "      <td>8.5</td>\n",
              "    </tr>\n",
              "    <tr>\n",
              "      <th>3</th>\n",
              "      <td>34</td>\n",
              "      <td>81</td>\n",
              "      <td>1206981</td>\n",
              "      <td>218</td>\n",
              "      <td>0.371560</td>\n",
              "      <td>6.5</td>\n",
              "    </tr>\n",
              "    <tr>\n",
              "      <th>4</th>\n",
              "      <td>35</td>\n",
              "      <td>145</td>\n",
              "      <td>1809718</td>\n",
              "      <td>297</td>\n",
              "      <td>0.488215</td>\n",
              "      <td>4.5</td>\n",
              "    </tr>\n",
              "    <tr>\n",
              "      <th>5</th>\n",
              "      <td>37</td>\n",
              "      <td>93</td>\n",
              "      <td>1550820</td>\n",
              "      <td>312</td>\n",
              "      <td>0.298077</td>\n",
              "      <td>7.5</td>\n",
              "    </tr>\n",
              "    <tr>\n",
              "      <th>6</th>\n",
              "      <td>40</td>\n",
              "      <td>207</td>\n",
              "      <td>3356653</td>\n",
              "      <td>664</td>\n",
              "      <td>0.311747</td>\n",
              "      <td>8.0</td>\n",
              "    </tr>\n",
              "    <tr>\n",
              "      <th>7</th>\n",
              "      <td>41</td>\n",
              "      <td>61</td>\n",
              "      <td>831328</td>\n",
              "      <td>110</td>\n",
              "      <td>0.554545</td>\n",
              "      <td>8.0</td>\n",
              "    </tr>\n",
              "    <tr>\n",
              "      <th>8</th>\n",
              "      <td>42</td>\n",
              "      <td>191</td>\n",
              "      <td>2411386</td>\n",
              "      <td>324</td>\n",
              "      <td>0.589506</td>\n",
              "      <td>7.5</td>\n",
              "    </tr>\n",
              "    <tr>\n",
              "      <th>9</th>\n",
              "      <td>43</td>\n",
              "      <td>148</td>\n",
              "      <td>2378013</td>\n",
              "      <td>448</td>\n",
              "      <td>0.330357</td>\n",
              "      <td>6.0</td>\n",
              "    </tr>\n",
              "  </tbody>\n",
              "</table>\n",
              "</div>"
            ],
            "text/plain": [
              "   user_id  number_of_right_submission  ...  right_submit_rate    CK\n",
              "0       24                          72  ...           0.439024   9.5\n",
              "1       27                           3  ...           0.230769  10.0\n",
              "2       29                          72  ...           0.361809   8.5\n",
              "3       34                          81  ...           0.371560   6.5\n",
              "4       35                         145  ...           0.488215   4.5\n",
              "5       37                          93  ...           0.298077   7.5\n",
              "6       40                         207  ...           0.311747   8.0\n",
              "7       41                          61  ...           0.554545   8.0\n",
              "8       42                         191  ...           0.589506   7.5\n",
              "9       43                         148  ...           0.330357   6.0\n",
              "\n",
              "[10 rows x 6 columns]"
            ]
          },
          "metadata": {
            "tags": []
          },
          "execution_count": 77
        }
      ]
    },
    {
      "cell_type": "code",
      "metadata": {
        "colab": {
          "base_uri": "https://localhost:8080/",
          "height": 359
        },
        "id": "SonQFe3oDxCt",
        "outputId": "83162d44-8bed-4a50-b124-8d7d8c935df2"
      },
      "source": [
        "predict_data.head(10)"
      ],
      "execution_count": null,
      "outputs": [
        {
          "output_type": "execute_result",
          "data": {
            "text/html": [
              "<div>\n",
              "<style scoped>\n",
              "    .dataframe tbody tr th:only-of-type {\n",
              "        vertical-align: middle;\n",
              "    }\n",
              "\n",
              "    .dataframe tbody tr th {\n",
              "        vertical-align: top;\n",
              "    }\n",
              "\n",
              "    .dataframe thead th {\n",
              "        text-align: right;\n",
              "    }\n",
              "</style>\n",
              "<table border=\"1\" class=\"dataframe\">\n",
              "  <thead>\n",
              "    <tr style=\"text-align: right;\">\n",
              "      <th></th>\n",
              "      <th>user_id</th>\n",
              "      <th>number_of_right_submission</th>\n",
              "      <th>sum_pre_score</th>\n",
              "      <th>submit_times</th>\n",
              "      <th>right_submit_rate</th>\n",
              "      <th>CK</th>\n",
              "    </tr>\n",
              "  </thead>\n",
              "  <tbody>\n",
              "    <tr>\n",
              "      <th>14</th>\n",
              "      <td>51</td>\n",
              "      <td>38</td>\n",
              "      <td>446194</td>\n",
              "      <td>86</td>\n",
              "      <td>0.441860</td>\n",
              "      <td>NaN</td>\n",
              "    </tr>\n",
              "    <tr>\n",
              "      <th>96</th>\n",
              "      <td>240</td>\n",
              "      <td>126</td>\n",
              "      <td>3066214</td>\n",
              "      <td>623</td>\n",
              "      <td>0.202247</td>\n",
              "      <td>NaN</td>\n",
              "    </tr>\n",
              "    <tr>\n",
              "      <th>164</th>\n",
              "      <td>391</td>\n",
              "      <td>102</td>\n",
              "      <td>2085960</td>\n",
              "      <td>379</td>\n",
              "      <td>0.269129</td>\n",
              "      <td>NaN</td>\n",
              "    </tr>\n",
              "    <tr>\n",
              "      <th>240</th>\n",
              "      <td>513</td>\n",
              "      <td>130</td>\n",
              "      <td>3222566</td>\n",
              "      <td>672</td>\n",
              "      <td>0.193452</td>\n",
              "      <td>NaN</td>\n",
              "    </tr>\n",
              "    <tr>\n",
              "      <th>278</th>\n",
              "      <td>586</td>\n",
              "      <td>123</td>\n",
              "      <td>2113473</td>\n",
              "      <td>296</td>\n",
              "      <td>0.415541</td>\n",
              "      <td>NaN</td>\n",
              "    </tr>\n",
              "    <tr>\n",
              "      <th>335</th>\n",
              "      <td>705</td>\n",
              "      <td>118</td>\n",
              "      <td>1859632</td>\n",
              "      <td>328</td>\n",
              "      <td>0.359756</td>\n",
              "      <td>NaN</td>\n",
              "    </tr>\n",
              "    <tr>\n",
              "      <th>363</th>\n",
              "      <td>772</td>\n",
              "      <td>112</td>\n",
              "      <td>1657940</td>\n",
              "      <td>292</td>\n",
              "      <td>0.383562</td>\n",
              "      <td>NaN</td>\n",
              "    </tr>\n",
              "    <tr>\n",
              "      <th>365</th>\n",
              "      <td>774</td>\n",
              "      <td>98</td>\n",
              "      <td>1365874</td>\n",
              "      <td>197</td>\n",
              "      <td>0.497462</td>\n",
              "      <td>NaN</td>\n",
              "    </tr>\n",
              "    <tr>\n",
              "      <th>366</th>\n",
              "      <td>776</td>\n",
              "      <td>99</td>\n",
              "      <td>1338650</td>\n",
              "      <td>264</td>\n",
              "      <td>0.375000</td>\n",
              "      <td>NaN</td>\n",
              "    </tr>\n",
              "    <tr>\n",
              "      <th>375</th>\n",
              "      <td>792</td>\n",
              "      <td>158</td>\n",
              "      <td>2861806</td>\n",
              "      <td>422</td>\n",
              "      <td>0.374408</td>\n",
              "      <td>NaN</td>\n",
              "    </tr>\n",
              "  </tbody>\n",
              "</table>\n",
              "</div>"
            ],
            "text/plain": [
              "     user_id  number_of_right_submission  ...  right_submit_rate  CK\n",
              "14        51                          38  ...           0.441860 NaN\n",
              "96       240                         126  ...           0.202247 NaN\n",
              "164      391                         102  ...           0.269129 NaN\n",
              "240      513                         130  ...           0.193452 NaN\n",
              "278      586                         123  ...           0.415541 NaN\n",
              "335      705                         118  ...           0.359756 NaN\n",
              "363      772                         112  ...           0.383562 NaN\n",
              "365      774                          98  ...           0.497462 NaN\n",
              "366      776                          99  ...           0.375000 NaN\n",
              "375      792                         158  ...           0.374408 NaN\n",
              "\n",
              "[10 rows x 6 columns]"
            ]
          },
          "metadata": {
            "tags": []
          },
          "execution_count": 78
        }
      ]
    },
    {
      "cell_type": "markdown",
      "metadata": {
        "id": "v4-HfB8E_YuT"
      },
      "source": [
        "***Train lần lượt với các cột để đánh giá độ chính xác***\n",
        "\n",
        "Sau khi thử qua một số thuật toán classification để train thì có Support Vector Machine là chạy thành công trên bộ dữ liệu này.\n",
        "\n",
        "References: https://analyticsindiamag.com/7-types-classification-algorithms/"
      ]
    },
    {
      "cell_type": "code",
      "metadata": {
        "id": "jyrJH7iyKzLW"
      },
      "source": [
        "#Hàm làm tròn điểm cuối kì\n",
        "def round_CK(x):\n",
        "    x = np.round(x,1)\n",
        "    return x"
      ],
      "execution_count": null,
      "outputs": []
    },
    {
      "cell_type": "markdown",
      "metadata": {
        "id": "kggS0g3ESWBk"
      },
      "source": [
        "Việc làm tròn điểm sẽ làm giảm MSE ở một số feature, đồng thời giúp dữ liệu sau khi dự đoán dễ nhìn hơn.\n"
      ]
    },
    {
      "cell_type": "code",
      "metadata": {
        "colab": {
          "base_uri": "https://localhost:8080/"
        },
        "id": "ovFhBJE3Dni6",
        "outputId": "a1a297ee-8ae4-4f28-f2e1-20248db51099"
      },
      "source": [
        "from sklearn.svm import SVR\n",
        "from sklearn.metrics import mean_squared_error\n",
        "svm = SVR()\n",
        "\n",
        "#dữ liệu train\n",
        "x = np.array(train_data[['sum_pre_score']])\n",
        "y = np.array(train_data['CK'])\n",
        "#train model\n",
        "svm.fit(x,y)\n",
        "y_predict = round_CK(svm.predict(x))\n",
        "#Tính mean squared error\n",
        "print('MSE (sum_prescore): ', mean_squared_error(y, y_predict))"
      ],
      "execution_count": null,
      "outputs": [
        {
          "output_type": "stream",
          "text": [
            "MSE (sum_prescore):  4.298325062034739\n"
          ],
          "name": "stdout"
        }
      ]
    },
    {
      "cell_type": "code",
      "metadata": {
        "colab": {
          "base_uri": "https://localhost:8080/"
        },
        "id": "3LV5Y7PNCYWB",
        "outputId": "e769c5d0-ffbf-4bcc-ce7a-3427509a9958"
      },
      "source": [
        "#Train với cột right_submit_rate\n",
        "#dữ liệu train\n",
        "x = np.array(train_data[['right_submit_rate']])\n",
        "y = np.array(train_data['CK'])\n",
        "#train model\n",
        "svm.fit(x,y)\n",
        "y_predict1 = round_CK(svm.predict(x))\n",
        "#Tính mean squared error\n",
        "print('MSE (right_submit_rate):', mean_squared_error(y, y_predict1))"
      ],
      "execution_count": null,
      "outputs": [
        {
          "output_type": "stream",
          "text": [
            "MSE (right_submit_rate): 5.026923076923078\n"
          ],
          "name": "stdout"
        }
      ]
    },
    {
      "cell_type": "code",
      "metadata": {
        "colab": {
          "base_uri": "https://localhost:8080/"
        },
        "id": "1hpWfKFmDU7J",
        "outputId": "f4c62544-a2fb-4667-8a93-377386e66f0a"
      },
      "source": [
        "#Train với cột number_of_right_submission\n",
        "#dữ liệu train\n",
        "x = np.array(train_data[['number_of_right_submission']])\n",
        "y = np.array(train_data['CK'])\n",
        "#train model\n",
        "svm.fit(x,y)\n",
        "y_predict2 = svm.predict(x)\n",
        "#Tính mean squared error\n",
        "print('MSE (right_submissions):', mean_squared_error(y, y_predict2))"
      ],
      "execution_count": null,
      "outputs": [
        {
          "output_type": "stream",
          "text": [
            "MSE (right_submissions): 4.5417170855643425\n"
          ],
          "name": "stdout"
        }
      ]
    },
    {
      "cell_type": "code",
      "metadata": {
        "colab": {
          "base_uri": "https://localhost:8080/"
        },
        "id": "9txGoZps85F7",
        "outputId": "a84fb3b7-7387-4ccb-ea4b-46d427f31087"
      },
      "source": [
        "#Train với cột submit_times\n",
        "#dữ liệu train\n",
        "x = np.array(train_data[['submit_times']])\n",
        "y = np.array(train_data['CK'])\n",
        "#train model\n",
        "svm.fit(x,y)\n",
        "y_predict2 = svm.predict(x)\n",
        "#Tính mean squared error\n",
        "print('MSE (submit_times):', mean_squared_error(y, y_predict2))"
      ],
      "execution_count": null,
      "outputs": [
        {
          "output_type": "stream",
          "text": [
            "MSE (submit_times): 4.5561732707760285\n"
          ],
          "name": "stdout"
        }
      ]
    },
    {
      "cell_type": "code",
      "metadata": {
        "colab": {
          "base_uri": "https://localhost:8080/"
        },
        "id": "isMWZKHW9eub",
        "outputId": "b9cf1be5-aac6-47cb-d102-382ebc31354b"
      },
      "source": [
        "#Train với nhiều cột\n",
        "train_cols = ['number_of_right_submission','sum_pre_score', 'submit_times']\n",
        "#dữ liệu train\n",
        "x = np.array(train_data[train_cols])\n",
        "y = np.array(train_data['CK'])\n",
        "#train model\n",
        "svm.fit(x,y)\n",
        "y_predict = round_CK(svm.predict(x))\n",
        "#Tính mean squared error\n",
        "print('MSE (all columns): ', mean_squared_error(y, y_predict))"
      ],
      "execution_count": null,
      "outputs": [
        {
          "output_type": "stream",
          "text": [
            "MSE (all columns):  4.309900744416874\n"
          ],
          "name": "stdout"
        }
      ]
    },
    {
      "cell_type": "markdown",
      "metadata": {
        "id": "tQ3KAa4sKNFA"
      },
      "source": [
        "**Nhận xét:**\n",
        "Sau khi train với các cột khác nhau thì ta thấy:\n",
        "- MSE thấp nhất là khi train với cột sum_pre_score.\n",
        "- MSE cao nhất khi train với cột right_submit_rate (vì vậy ta không chọn cột right_submit_rate khi train với nhiều cột).\n",
        "\n",
        "Vậy ta sẽ predict thông qua sum_pre_score."
      ]
    },
    {
      "cell_type": "code",
      "metadata": {
        "colab": {
          "base_uri": "https://localhost:8080/",
          "height": 1000
        },
        "id": "pfyWl9VzEqBY",
        "outputId": "2014e6a6-078d-4cfe-d637-61cca73c7b2b"
      },
      "source": [
        "#Dự đoán cột điểm cuối kì còn thiếu\n",
        "predict_data['CK'] = round_CK(svm.predict(predict_data[['sum_pre_score']]))\n",
        "predict_data = predict_data.reset_index()\n",
        "predict_data = predict_data.drop(columns=['level_0','index'])\n",
        "predict_data"
      ],
      "execution_count": null,
      "outputs": [
        {
          "output_type": "execute_result",
          "data": {
            "text/html": [
              "<div>\n",
              "<style scoped>\n",
              "    .dataframe tbody tr th:only-of-type {\n",
              "        vertical-align: middle;\n",
              "    }\n",
              "\n",
              "    .dataframe tbody tr th {\n",
              "        vertical-align: top;\n",
              "    }\n",
              "\n",
              "    .dataframe thead th {\n",
              "        text-align: right;\n",
              "    }\n",
              "</style>\n",
              "<table border=\"1\" class=\"dataframe\">\n",
              "  <thead>\n",
              "    <tr style=\"text-align: right;\">\n",
              "      <th></th>\n",
              "      <th>user_id</th>\n",
              "      <th>number_of_right_submission</th>\n",
              "      <th>sum_pre_score</th>\n",
              "      <th>submit_times</th>\n",
              "      <th>right_submit_rate</th>\n",
              "      <th>CK</th>\n",
              "    </tr>\n",
              "  </thead>\n",
              "  <tbody>\n",
              "    <tr>\n",
              "      <th>0</th>\n",
              "      <td>51</td>\n",
              "      <td>38</td>\n",
              "      <td>446194</td>\n",
              "      <td>86</td>\n",
              "      <td>0.441860</td>\n",
              "      <td>5.6</td>\n",
              "    </tr>\n",
              "    <tr>\n",
              "      <th>1</th>\n",
              "      <td>240</td>\n",
              "      <td>126</td>\n",
              "      <td>3066214</td>\n",
              "      <td>623</td>\n",
              "      <td>0.202247</td>\n",
              "      <td>8.2</td>\n",
              "    </tr>\n",
              "    <tr>\n",
              "      <th>2</th>\n",
              "      <td>391</td>\n",
              "      <td>102</td>\n",
              "      <td>2085960</td>\n",
              "      <td>379</td>\n",
              "      <td>0.269129</td>\n",
              "      <td>7.1</td>\n",
              "    </tr>\n",
              "    <tr>\n",
              "      <th>3</th>\n",
              "      <td>513</td>\n",
              "      <td>130</td>\n",
              "      <td>3222566</td>\n",
              "      <td>672</td>\n",
              "      <td>0.193452</td>\n",
              "      <td>8.2</td>\n",
              "    </tr>\n",
              "    <tr>\n",
              "      <th>4</th>\n",
              "      <td>586</td>\n",
              "      <td>123</td>\n",
              "      <td>2113473</td>\n",
              "      <td>296</td>\n",
              "      <td>0.415541</td>\n",
              "      <td>7.1</td>\n",
              "    </tr>\n",
              "    <tr>\n",
              "      <th>5</th>\n",
              "      <td>705</td>\n",
              "      <td>118</td>\n",
              "      <td>1859632</td>\n",
              "      <td>328</td>\n",
              "      <td>0.359756</td>\n",
              "      <td>7.0</td>\n",
              "    </tr>\n",
              "    <tr>\n",
              "      <th>6</th>\n",
              "      <td>772</td>\n",
              "      <td>112</td>\n",
              "      <td>1657940</td>\n",
              "      <td>292</td>\n",
              "      <td>0.383562</td>\n",
              "      <td>6.9</td>\n",
              "    </tr>\n",
              "    <tr>\n",
              "      <th>7</th>\n",
              "      <td>774</td>\n",
              "      <td>98</td>\n",
              "      <td>1365874</td>\n",
              "      <td>197</td>\n",
              "      <td>0.497462</td>\n",
              "      <td>6.5</td>\n",
              "    </tr>\n",
              "    <tr>\n",
              "      <th>8</th>\n",
              "      <td>776</td>\n",
              "      <td>99</td>\n",
              "      <td>1338650</td>\n",
              "      <td>264</td>\n",
              "      <td>0.375000</td>\n",
              "      <td>6.4</td>\n",
              "    </tr>\n",
              "    <tr>\n",
              "      <th>9</th>\n",
              "      <td>792</td>\n",
              "      <td>158</td>\n",
              "      <td>2861806</td>\n",
              "      <td>422</td>\n",
              "      <td>0.374408</td>\n",
              "      <td>8.2</td>\n",
              "    </tr>\n",
              "    <tr>\n",
              "      <th>10</th>\n",
              "      <td>804</td>\n",
              "      <td>98</td>\n",
              "      <td>1347939</td>\n",
              "      <td>171</td>\n",
              "      <td>0.573099</td>\n",
              "      <td>6.5</td>\n",
              "    </tr>\n",
              "    <tr>\n",
              "      <th>11</th>\n",
              "      <td>811</td>\n",
              "      <td>115</td>\n",
              "      <td>1386667</td>\n",
              "      <td>181</td>\n",
              "      <td>0.635359</td>\n",
              "      <td>6.5</td>\n",
              "    </tr>\n",
              "    <tr>\n",
              "      <th>12</th>\n",
              "      <td>818</td>\n",
              "      <td>105</td>\n",
              "      <td>1405749</td>\n",
              "      <td>237</td>\n",
              "      <td>0.443038</td>\n",
              "      <td>6.6</td>\n",
              "    </tr>\n",
              "    <tr>\n",
              "      <th>13</th>\n",
              "      <td>842</td>\n",
              "      <td>127</td>\n",
              "      <td>1505449</td>\n",
              "      <td>239</td>\n",
              "      <td>0.531381</td>\n",
              "      <td>6.7</td>\n",
              "    </tr>\n",
              "    <tr>\n",
              "      <th>14</th>\n",
              "      <td>848</td>\n",
              "      <td>137</td>\n",
              "      <td>2449928</td>\n",
              "      <td>380</td>\n",
              "      <td>0.360526</td>\n",
              "      <td>7.6</td>\n",
              "    </tr>\n",
              "    <tr>\n",
              "      <th>15</th>\n",
              "      <td>876</td>\n",
              "      <td>52</td>\n",
              "      <td>654280</td>\n",
              "      <td>128</td>\n",
              "      <td>0.406250</td>\n",
              "      <td>5.4</td>\n",
              "    </tr>\n",
              "    <tr>\n",
              "      <th>16</th>\n",
              "      <td>884</td>\n",
              "      <td>91</td>\n",
              "      <td>1522169</td>\n",
              "      <td>256</td>\n",
              "      <td>0.355469</td>\n",
              "      <td>6.8</td>\n",
              "    </tr>\n",
              "    <tr>\n",
              "      <th>17</th>\n",
              "      <td>911</td>\n",
              "      <td>155</td>\n",
              "      <td>2608086</td>\n",
              "      <td>457</td>\n",
              "      <td>0.339168</td>\n",
              "      <td>7.8</td>\n",
              "    </tr>\n",
              "    <tr>\n",
              "      <th>18</th>\n",
              "      <td>924</td>\n",
              "      <td>161</td>\n",
              "      <td>2578832</td>\n",
              "      <td>371</td>\n",
              "      <td>0.433962</td>\n",
              "      <td>7.8</td>\n",
              "    </tr>\n",
              "    <tr>\n",
              "      <th>19</th>\n",
              "      <td>958</td>\n",
              "      <td>153</td>\n",
              "      <td>1955626</td>\n",
              "      <td>345</td>\n",
              "      <td>0.443478</td>\n",
              "      <td>7.0</td>\n",
              "    </tr>\n",
              "    <tr>\n",
              "      <th>20</th>\n",
              "      <td>989</td>\n",
              "      <td>122</td>\n",
              "      <td>2730213</td>\n",
              "      <td>483</td>\n",
              "      <td>0.252588</td>\n",
              "      <td>8.0</td>\n",
              "    </tr>\n",
              "    <tr>\n",
              "      <th>21</th>\n",
              "      <td>1023</td>\n",
              "      <td>136</td>\n",
              "      <td>2529397</td>\n",
              "      <td>395</td>\n",
              "      <td>0.344304</td>\n",
              "      <td>7.7</td>\n",
              "    </tr>\n",
              "    <tr>\n",
              "      <th>22</th>\n",
              "      <td>1026</td>\n",
              "      <td>90</td>\n",
              "      <td>1896154</td>\n",
              "      <td>359</td>\n",
              "      <td>0.250696</td>\n",
              "      <td>7.0</td>\n",
              "    </tr>\n",
              "    <tr>\n",
              "      <th>23</th>\n",
              "      <td>1028</td>\n",
              "      <td>121</td>\n",
              "      <td>2064678</td>\n",
              "      <td>365</td>\n",
              "      <td>0.331507</td>\n",
              "      <td>7.1</td>\n",
              "    </tr>\n",
              "    <tr>\n",
              "      <th>24</th>\n",
              "      <td>1048</td>\n",
              "      <td>71</td>\n",
              "      <td>1026982</td>\n",
              "      <td>182</td>\n",
              "      <td>0.390110</td>\n",
              "      <td>5.8</td>\n",
              "    </tr>\n",
              "    <tr>\n",
              "      <th>25</th>\n",
              "      <td>1064</td>\n",
              "      <td>89</td>\n",
              "      <td>1177422</td>\n",
              "      <td>246</td>\n",
              "      <td>0.361789</td>\n",
              "      <td>6.1</td>\n",
              "    </tr>\n",
              "    <tr>\n",
              "      <th>26</th>\n",
              "      <td>1129</td>\n",
              "      <td>99</td>\n",
              "      <td>1380573</td>\n",
              "      <td>204</td>\n",
              "      <td>0.485294</td>\n",
              "      <td>6.5</td>\n",
              "    </tr>\n",
              "    <tr>\n",
              "      <th>27</th>\n",
              "      <td>1162</td>\n",
              "      <td>77</td>\n",
              "      <td>1039207</td>\n",
              "      <td>156</td>\n",
              "      <td>0.493590</td>\n",
              "      <td>5.8</td>\n",
              "    </tr>\n",
              "    <tr>\n",
              "      <th>28</th>\n",
              "      <td>1172</td>\n",
              "      <td>81</td>\n",
              "      <td>1298215</td>\n",
              "      <td>264</td>\n",
              "      <td>0.306818</td>\n",
              "      <td>6.4</td>\n",
              "    </tr>\n",
              "    <tr>\n",
              "      <th>29</th>\n",
              "      <td>1195</td>\n",
              "      <td>68</td>\n",
              "      <td>992798</td>\n",
              "      <td>177</td>\n",
              "      <td>0.384181</td>\n",
              "      <td>5.7</td>\n",
              "    </tr>\n",
              "    <tr>\n",
              "      <th>30</th>\n",
              "      <td>1217</td>\n",
              "      <td>67</td>\n",
              "      <td>1629776</td>\n",
              "      <td>350</td>\n",
              "      <td>0.191429</td>\n",
              "      <td>6.9</td>\n",
              "    </tr>\n",
              "    <tr>\n",
              "      <th>31</th>\n",
              "      <td>1257</td>\n",
              "      <td>97</td>\n",
              "      <td>1254824</td>\n",
              "      <td>200</td>\n",
              "      <td>0.485000</td>\n",
              "      <td>6.3</td>\n",
              "    </tr>\n",
              "    <tr>\n",
              "      <th>32</th>\n",
              "      <td>1308</td>\n",
              "      <td>105</td>\n",
              "      <td>2118499</td>\n",
              "      <td>335</td>\n",
              "      <td>0.313433</td>\n",
              "      <td>7.1</td>\n",
              "    </tr>\n",
              "    <tr>\n",
              "      <th>33</th>\n",
              "      <td>1319</td>\n",
              "      <td>86</td>\n",
              "      <td>1376826</td>\n",
              "      <td>241</td>\n",
              "      <td>0.356846</td>\n",
              "      <td>6.5</td>\n",
              "    </tr>\n",
              "    <tr>\n",
              "      <th>34</th>\n",
              "      <td>1325</td>\n",
              "      <td>93</td>\n",
              "      <td>1434920</td>\n",
              "      <td>380</td>\n",
              "      <td>0.244737</td>\n",
              "      <td>6.6</td>\n",
              "    </tr>\n",
              "    <tr>\n",
              "      <th>35</th>\n",
              "      <td>1340</td>\n",
              "      <td>160</td>\n",
              "      <td>2130143</td>\n",
              "      <td>297</td>\n",
              "      <td>0.538721</td>\n",
              "      <td>7.2</td>\n",
              "    </tr>\n",
              "    <tr>\n",
              "      <th>36</th>\n",
              "      <td>1344</td>\n",
              "      <td>36</td>\n",
              "      <td>648886</td>\n",
              "      <td>178</td>\n",
              "      <td>0.202247</td>\n",
              "      <td>5.4</td>\n",
              "    </tr>\n",
              "    <tr>\n",
              "      <th>37</th>\n",
              "      <td>1367</td>\n",
              "      <td>105</td>\n",
              "      <td>1538435</td>\n",
              "      <td>266</td>\n",
              "      <td>0.394737</td>\n",
              "      <td>6.8</td>\n",
              "    </tr>\n",
              "    <tr>\n",
              "      <th>38</th>\n",
              "      <td>1368</td>\n",
              "      <td>110</td>\n",
              "      <td>2084972</td>\n",
              "      <td>328</td>\n",
              "      <td>0.335366</td>\n",
              "      <td>7.1</td>\n",
              "    </tr>\n",
              "    <tr>\n",
              "      <th>39</th>\n",
              "      <td>1399</td>\n",
              "      <td>117</td>\n",
              "      <td>2605496</td>\n",
              "      <td>574</td>\n",
              "      <td>0.203833</td>\n",
              "      <td>7.8</td>\n",
              "    </tr>\n",
              "    <tr>\n",
              "      <th>40</th>\n",
              "      <td>1406</td>\n",
              "      <td>109</td>\n",
              "      <td>2415037</td>\n",
              "      <td>441</td>\n",
              "      <td>0.247166</td>\n",
              "      <td>7.5</td>\n",
              "    </tr>\n",
              "    <tr>\n",
              "      <th>41</th>\n",
              "      <td>1408</td>\n",
              "      <td>104</td>\n",
              "      <td>1557928</td>\n",
              "      <td>249</td>\n",
              "      <td>0.417671</td>\n",
              "      <td>6.8</td>\n",
              "    </tr>\n",
              "    <tr>\n",
              "      <th>42</th>\n",
              "      <td>1425</td>\n",
              "      <td>117</td>\n",
              "      <td>1864149</td>\n",
              "      <td>267</td>\n",
              "      <td>0.438202</td>\n",
              "      <td>7.0</td>\n",
              "    </tr>\n",
              "    <tr>\n",
              "      <th>43</th>\n",
              "      <td>1458</td>\n",
              "      <td>94</td>\n",
              "      <td>1719842</td>\n",
              "      <td>358</td>\n",
              "      <td>0.262570</td>\n",
              "      <td>6.9</td>\n",
              "    </tr>\n",
              "    <tr>\n",
              "      <th>44</th>\n",
              "      <td>1546</td>\n",
              "      <td>104</td>\n",
              "      <td>2173972</td>\n",
              "      <td>434</td>\n",
              "      <td>0.239631</td>\n",
              "      <td>7.2</td>\n",
              "    </tr>\n",
              "    <tr>\n",
              "      <th>45</th>\n",
              "      <td>1633</td>\n",
              "      <td>124</td>\n",
              "      <td>2544851</td>\n",
              "      <td>472</td>\n",
              "      <td>0.262712</td>\n",
              "      <td>7.7</td>\n",
              "    </tr>\n",
              "    <tr>\n",
              "      <th>46</th>\n",
              "      <td>1661</td>\n",
              "      <td>88</td>\n",
              "      <td>1997300</td>\n",
              "      <td>462</td>\n",
              "      <td>0.190476</td>\n",
              "      <td>7.1</td>\n",
              "    </tr>\n",
              "  </tbody>\n",
              "</table>\n",
              "</div>"
            ],
            "text/plain": [
              "    user_id  number_of_right_submission  ...  right_submit_rate   CK\n",
              "0        51                          38  ...           0.441860  5.6\n",
              "1       240                         126  ...           0.202247  8.2\n",
              "2       391                         102  ...           0.269129  7.1\n",
              "3       513                         130  ...           0.193452  8.2\n",
              "4       586                         123  ...           0.415541  7.1\n",
              "5       705                         118  ...           0.359756  7.0\n",
              "6       772                         112  ...           0.383562  6.9\n",
              "7       774                          98  ...           0.497462  6.5\n",
              "8       776                          99  ...           0.375000  6.4\n",
              "9       792                         158  ...           0.374408  8.2\n",
              "10      804                          98  ...           0.573099  6.5\n",
              "11      811                         115  ...           0.635359  6.5\n",
              "12      818                         105  ...           0.443038  6.6\n",
              "13      842                         127  ...           0.531381  6.7\n",
              "14      848                         137  ...           0.360526  7.6\n",
              "15      876                          52  ...           0.406250  5.4\n",
              "16      884                          91  ...           0.355469  6.8\n",
              "17      911                         155  ...           0.339168  7.8\n",
              "18      924                         161  ...           0.433962  7.8\n",
              "19      958                         153  ...           0.443478  7.0\n",
              "20      989                         122  ...           0.252588  8.0\n",
              "21     1023                         136  ...           0.344304  7.7\n",
              "22     1026                          90  ...           0.250696  7.0\n",
              "23     1028                         121  ...           0.331507  7.1\n",
              "24     1048                          71  ...           0.390110  5.8\n",
              "25     1064                          89  ...           0.361789  6.1\n",
              "26     1129                          99  ...           0.485294  6.5\n",
              "27     1162                          77  ...           0.493590  5.8\n",
              "28     1172                          81  ...           0.306818  6.4\n",
              "29     1195                          68  ...           0.384181  5.7\n",
              "30     1217                          67  ...           0.191429  6.9\n",
              "31     1257                          97  ...           0.485000  6.3\n",
              "32     1308                         105  ...           0.313433  7.1\n",
              "33     1319                          86  ...           0.356846  6.5\n",
              "34     1325                          93  ...           0.244737  6.6\n",
              "35     1340                         160  ...           0.538721  7.2\n",
              "36     1344                          36  ...           0.202247  5.4\n",
              "37     1367                         105  ...           0.394737  6.8\n",
              "38     1368                         110  ...           0.335366  7.1\n",
              "39     1399                         117  ...           0.203833  7.8\n",
              "40     1406                         109  ...           0.247166  7.5\n",
              "41     1408                         104  ...           0.417671  6.8\n",
              "42     1425                         117  ...           0.438202  7.0\n",
              "43     1458                          94  ...           0.262570  6.9\n",
              "44     1546                         104  ...           0.239631  7.2\n",
              "45     1633                         124  ...           0.262712  7.7\n",
              "46     1661                          88  ...           0.190476  7.1\n",
              "\n",
              "[47 rows x 6 columns]"
            ]
          },
          "metadata": {
            "tags": []
          },
          "execution_count": 84
        }
      ]
    }
  ]
}
