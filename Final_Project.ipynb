{
  "nbformat": 4,
  "nbformat_minor": 0,
  "metadata": {
    "colab": {
      "name": "Final_Project.ipynb",
      "provenance": [],
      "collapsed_sections": [],
      "authorship_tag": "ABX9TyO7eZCzylGIgWBg64NCv81Z",
      "include_colab_link": true
    },
    "kernelspec": {
      "name": "python3",
      "display_name": "Python 3"
    },
    "language_info": {
      "name": "python"
    }
  },
  "cells": [
    {
      "cell_type": "markdown",
      "metadata": {
        "id": "view-in-github",
        "colab_type": "text"
      },
      "source": [
        "<a href=\"https://colab.research.google.com/github/nhat132940/CS114.L21.KHCL/blob/main/Final_Project.ipynb\" target=\"_parent\"><img src=\"https://colab.research.google.com/assets/colab-badge.svg\" alt=\"Open In Colab\"/></a>"
      ]
    },
    {
      "cell_type": "markdown",
      "metadata": {
        "id": "0C9lNls5emhG"
      },
      "source": [
        "# ***Đồ án cuối kì***\n",
        "##***Môn: Máy học***\n",
        "##***Thành viên nhóm:***\n",
        "- Phan Minh Nhật - 19521956\n",
        "- Lê Võ Tiến Phát - 19521993\n",
        "- Hồ Thịnh - 19522274\n",
        "\n",
        "##***Chủ đề: Ứng dụng Machine Learning để phân loại rau***\n",
        "Trong thực tế, có một số bạn rất ít khi đi chợ nên khi đi chợ mua rau về để nấu ăn thì khá lúng túng, không loại rau đó có phải là loại rau mình cần mua không. Lúc này ta sẽ cần đến model này để có thể biết được loại rau đó là loại rau gì.\n",
        "###***1.Mô tả bài toán:***\n",
        "- Input: một tấm hình chụp loại rau đó, ảnh chụp phải rõ phần bề mặt lá (bởi vì sẽ phân biệt các loại rau qua lá của chúng),phần lá phải còn nguyên vẹn, chụp sao cho phần lá ở trung tâm bức hình, khoảng cách chụp khoảng 10cm, độ sáng của môi trường không quá tối, nếu không sẽ khá khó để nhận diện.\n",
        "- Output: sau khi bức ảnh được đưa vào model, model sẽ đưa ra dự đoán thuộc một trong 10 lớp (rau_muong, cai_ngot, cai_dang, cai_bo_xoi, hung_bac_ha, hung_que, hung_chanh, ngo, diep_ca, la_lot ).\n",
        "\n",
        "###***2.Mô tả về bộ dữ liệu:***\n",
        "- Bộ dữ liệu ước tính sẽ khoảng 1000 tấm hình (bao gồm 10 loại rau, mỗi loại rau có 100 hình), ảnh hầu hết sẽ do nhóm em tự chụp và một số ít lấy trên mạng lấy trên mạng(vì ảnh mạng đáp ứng đủ yêu cầu input không nhiều).\n",
        "- Các thao tác tiền xử lí dữ liệu:\n",
        "> - Gán nhãn cho 1000 tấm hình, sau đó lưu vào thư mục với nhãn tương ứng trên google drive.\n",
        "> - Cắt các tấm ảnh đã gán nhãn để focus vào một chiếc lá trong khung hình(dùng OpenCV).\n",
        "> - Xóa các chi tiết không cần thiết (thân cây, các chiếc lá khác) bằng các công cụ trong Scikit-learn.\n",
        "> - Dùng OpenCV để nhận diện được viền của chiếc lá, chuyển về ảnh xám để tiếp tục xử lí.\n",
        "\n",
        "- Phân chia dữ liệu: 50% train, 30% test, 20% dev.\n",
        "\n",
        "###***3.Mô tả về đặc trưng:***\n",
        "Nhóm em sẽ phân biệt các loại rau qua lá của chúng, các đặc trưng sẽ được xét đến là: \n",
        "- Shape - hình dạng của chiếc lá.\n",
        "- Texture - cấu trúc của lá (gân lá).\n",
        "\n",
        "Tham khảo:http://www.scielo.edu.uy/scielo.php?script=sci_arttext&pid=S0717-50002016000100007\n"
      ]
    }
  ]
}